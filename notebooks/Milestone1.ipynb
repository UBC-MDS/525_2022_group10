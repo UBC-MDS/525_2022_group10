{
 "cells": [
  {
   "cell_type": "code",
   "execution_count": 1,
   "id": "3a1285aa-ec64-4538-b407-635f8210b1d8",
   "metadata": {},
   "outputs": [],
   "source": [
    "import re\n",
    "import os\n",
    "import glob\n",
    "import zipfile\n",
    "import requests\n",
    "from urllib.request import urlretrieve\n",
    "import json\n",
    "import pandas as pd\n",
    "import numpy as np\n",
    "import dask.dataframe as dd\n",
    "import pyarrow.dataset as ds\n",
    "import rpy2_arrow.pyarrow_rarrow as pyra"
   ]
  },
  {
   "cell_type": "markdown",
   "id": "ca347474-0cc3-4d3a-806d-6842c6087552",
   "metadata": {},
   "source": [
    "## Part 3 - Downloading the data"
   ]
  },
  {
   "cell_type": "code",
   "execution_count": 2,
   "id": "04998513-5a49-40b4-b860-14ba6e008d16",
   "metadata": {},
   "outputs": [],
   "source": [
    "article_id = 14096681  # this is the unique identifier of the article on figshare\n",
    "url = f\"https://api.figshare.com/v2/articles/{article_id}\"\n",
    "headers = {\"Content-Type\": \"application/json\"}\n",
    "output_directory = \"figshareweather/\""
   ]
  },
  {
   "cell_type": "code",
   "execution_count": 3,
   "id": "32678e74-2ed5-4189-9995-fe0a4bfa8360",
   "metadata": {},
   "outputs": [
    {
     "data": {
      "text/plain": [
       "[{'id': 26579150,\n",
       "  'name': 'daily_rainfall_2014.png',\n",
       "  'size': 58863,\n",
       "  'is_link_only': False,\n",
       "  'download_url': 'https://ndownloader.figshare.com/files/26579150',\n",
       "  'supplied_md5': 'fd32a2ffde300a31f8d63b1825d47e5e',\n",
       "  'computed_md5': 'fd32a2ffde300a31f8d63b1825d47e5e'},\n",
       " {'id': 26579171,\n",
       "  'name': 'environment.yml',\n",
       "  'size': 192,\n",
       "  'is_link_only': False,\n",
       "  'download_url': 'https://ndownloader.figshare.com/files/26579171',\n",
       "  'supplied_md5': '060b2020017eed93a1ee7dd8c65b2f34',\n",
       "  'computed_md5': '060b2020017eed93a1ee7dd8c65b2f34'},\n",
       " {'id': 26586554,\n",
       "  'name': 'README.md',\n",
       "  'size': 5422,\n",
       "  'is_link_only': False,\n",
       "  'download_url': 'https://ndownloader.figshare.com/files/26586554',\n",
       "  'supplied_md5': '61858c6cc0e6a6d6663a7e4c75bbd88c',\n",
       "  'computed_md5': '61858c6cc0e6a6d6663a7e4c75bbd88c'},\n",
       " {'id': 26766812,\n",
       "  'name': 'data.zip',\n",
       "  'size': 814041183,\n",
       "  'is_link_only': False,\n",
       "  'download_url': 'https://ndownloader.figshare.com/files/26766812',\n",
       "  'supplied_md5': 'b517383f76e77bd03755a63a8ff83ee9',\n",
       "  'computed_md5': 'b517383f76e77bd03755a63a8ff83ee9'},\n",
       " {'id': 26766815,\n",
       "  'name': 'get_data.py',\n",
       "  'size': 4113,\n",
       "  'is_link_only': False,\n",
       "  'download_url': 'https://ndownloader.figshare.com/files/26766815',\n",
       "  'supplied_md5': '7829028495fd9dec9680ea013474afa6',\n",
       "  'computed_md5': '7829028495fd9dec9680ea013474afa6'}]"
      ]
     },
     "execution_count": 3,
     "metadata": {},
     "output_type": "execute_result"
    }
   ],
   "source": [
    "response = requests.request(\"GET\", url, headers=headers)\n",
    "data = json.loads(response.text)  # this contains all the articles data, feel free to check it out\n",
    "files = data[\"files\"]             # this is just the data about the files, which is what we want\n",
    "files"
   ]
  },
  {
   "cell_type": "code",
   "execution_count": 4,
   "id": "177561b3-d73c-4173-9025-d6a0c3e06ad8",
   "metadata": {},
   "outputs": [
    {
     "data": {
      "text/plain": [
       "{'id': 26766812,\n",
       " 'name': 'data.zip',\n",
       " 'size': 814041183,\n",
       " 'is_link_only': False,\n",
       " 'download_url': 'https://ndownloader.figshare.com/files/26766812',\n",
       " 'supplied_md5': 'b517383f76e77bd03755a63a8ff83ee9',\n",
       " 'computed_md5': 'b517383f76e77bd03755a63a8ff83ee9'}"
      ]
     },
     "execution_count": 4,
     "metadata": {},
     "output_type": "execute_result"
    }
   ],
   "source": [
    "file = files[3]\n",
    "file"
   ]
  },
  {
   "cell_type": "code",
   "execution_count": 5,
   "id": "0a99435a-8edd-461e-82ed-ce26bd3a5296",
   "metadata": {},
   "outputs": [
    {
     "data": {
      "text/plain": [
       "('figshareweather/data.zip', <http.client.HTTPMessage at 0x1fcb2943d00>)"
      ]
     },
     "execution_count": 5,
     "metadata": {},
     "output_type": "execute_result"
    }
   ],
   "source": [
    "# Download the data.zip, will take around 10-15 minutes\n",
    "os.makedirs(output_directory, exist_ok=True)\n",
    "urlretrieve(file[\"download_url\"], output_directory + file[\"name\"])"
   ]
  },
  {
   "cell_type": "code",
   "execution_count": 6,
   "id": "cdbbd71d-7348-4ed7-a3d1-419319c09969",
   "metadata": {},
   "outputs": [],
   "source": [
    "# Unzip contents of data.zip\n",
    "with zipfile.ZipFile(os.path.join(output_directory, \"data.zip\"), 'r') as f:\n",
    "    f.extractall(output_directory)"
   ]
  },
  {
   "cell_type": "markdown",
   "id": "4b12f81b-6d70-4796-8436-445db5352838",
   "metadata": {},
   "source": [
    "## Part 4 - Combining the data CSVs"
   ]
  },
  {
   "cell_type": "code",
   "execution_count": 7,
   "id": "6f366407-d00e-4809-a478-970caec7edeb",
   "metadata": {},
   "outputs": [],
   "source": [
    "files = glob.glob('figshareweather/*.csv')\n",
    "files.remove('figshareweather\\observed_daily_rainfall_SYD.csv') \n",
    "#files.remove('figshareweather/observed_daily_rainfall_SYD.csv') "
   ]
  },
  {
   "cell_type": "code",
   "execution_count": 8,
   "id": "781ef895-4164-45f2-a138-efbc91115346",
   "metadata": {},
   "outputs": [
    {
     "name": "stdout",
     "output_type": "stream",
     "text": [
      "CPU times: total: 7min 17s\n",
      "Wall time: 7min 19s\n"
     ]
    }
   ],
   "source": [
    "%%time\n",
    "# df = pd.concat((pd.read_csv(file, index_col=0)\n",
    "#                     .assign(model=re.findall(r\"(?<=figshareweather\\/)(.*)(?=_daily)\", file)[0])\n",
    "#                     for file in files))\n",
    "df = pd.concat((pd.read_csv(file, index_col=0).assign(model=re.findall(r\"[^\\/]+(?=_daily)\", file)[0]) for file in files))\n",
    "df.to_csv('figshareweather/combined_data.csv')"
   ]
  },
  {
   "cell_type": "code",
   "execution_count": 9,
   "id": "2ca028bb-c18f-4ceb-89d3-6a0df7143ec7",
   "metadata": {},
   "outputs": [
    {
     "data": {
      "text/html": [
       "<div>\n",
       "<style scoped>\n",
       "    .dataframe tbody tr th:only-of-type {\n",
       "        vertical-align: middle;\n",
       "    }\n",
       "\n",
       "    .dataframe tbody tr th {\n",
       "        vertical-align: top;\n",
       "    }\n",
       "\n",
       "    .dataframe thead th {\n",
       "        text-align: right;\n",
       "    }\n",
       "</style>\n",
       "<table border=\"1\" class=\"dataframe\">\n",
       "  <thead>\n",
       "    <tr style=\"text-align: right;\">\n",
       "      <th></th>\n",
       "      <th>lat_min</th>\n",
       "      <th>lat_max</th>\n",
       "      <th>lon_min</th>\n",
       "      <th>lon_max</th>\n",
       "      <th>rain (mm/day)</th>\n",
       "      <th>model</th>\n",
       "    </tr>\n",
       "    <tr>\n",
       "      <th>time</th>\n",
       "      <th></th>\n",
       "      <th></th>\n",
       "      <th></th>\n",
       "      <th></th>\n",
       "      <th></th>\n",
       "      <th></th>\n",
       "    </tr>\n",
       "  </thead>\n",
       "  <tbody>\n",
       "    <tr>\n",
       "      <th>1889-01-01 12:00:00</th>\n",
       "      <td>-36.250000</td>\n",
       "      <td>-35.00000</td>\n",
       "      <td>140.625</td>\n",
       "      <td>142.500</td>\n",
       "      <td>3.293256e-13</td>\n",
       "      <td>figshareweather\\ACCESS-CM2</td>\n",
       "    </tr>\n",
       "    <tr>\n",
       "      <th>1889-01-02 12:00:00</th>\n",
       "      <td>-36.250000</td>\n",
       "      <td>-35.00000</td>\n",
       "      <td>140.625</td>\n",
       "      <td>142.500</td>\n",
       "      <td>0.000000e+00</td>\n",
       "      <td>figshareweather\\ACCESS-CM2</td>\n",
       "    </tr>\n",
       "    <tr>\n",
       "      <th>1889-01-03 12:00:00</th>\n",
       "      <td>-36.250000</td>\n",
       "      <td>-35.00000</td>\n",
       "      <td>140.625</td>\n",
       "      <td>142.500</td>\n",
       "      <td>0.000000e+00</td>\n",
       "      <td>figshareweather\\ACCESS-CM2</td>\n",
       "    </tr>\n",
       "    <tr>\n",
       "      <th>1889-01-04 12:00:00</th>\n",
       "      <td>-36.250000</td>\n",
       "      <td>-35.00000</td>\n",
       "      <td>140.625</td>\n",
       "      <td>142.500</td>\n",
       "      <td>0.000000e+00</td>\n",
       "      <td>figshareweather\\ACCESS-CM2</td>\n",
       "    </tr>\n",
       "    <tr>\n",
       "      <th>1889-01-05 12:00:00</th>\n",
       "      <td>-36.250000</td>\n",
       "      <td>-35.00000</td>\n",
       "      <td>140.625</td>\n",
       "      <td>142.500</td>\n",
       "      <td>1.047658e-02</td>\n",
       "      <td>figshareweather\\ACCESS-CM2</td>\n",
       "    </tr>\n",
       "    <tr>\n",
       "      <th>...</th>\n",
       "      <td>...</td>\n",
       "      <td>...</td>\n",
       "      <td>...</td>\n",
       "      <td>...</td>\n",
       "      <td>...</td>\n",
       "      <td>...</td>\n",
       "    </tr>\n",
       "    <tr>\n",
       "      <th>2014-12-27 12:00:00</th>\n",
       "      <td>-30.157068</td>\n",
       "      <td>-29.21466</td>\n",
       "      <td>153.125</td>\n",
       "      <td>154.375</td>\n",
       "      <td>5.543748e-01</td>\n",
       "      <td>figshareweather\\TaiESM1</td>\n",
       "    </tr>\n",
       "    <tr>\n",
       "      <th>2014-12-28 12:00:00</th>\n",
       "      <td>-30.157068</td>\n",
       "      <td>-29.21466</td>\n",
       "      <td>153.125</td>\n",
       "      <td>154.375</td>\n",
       "      <td>7.028577e+00</td>\n",
       "      <td>figshareweather\\TaiESM1</td>\n",
       "    </tr>\n",
       "    <tr>\n",
       "      <th>2014-12-29 12:00:00</th>\n",
       "      <td>-30.157068</td>\n",
       "      <td>-29.21466</td>\n",
       "      <td>153.125</td>\n",
       "      <td>154.375</td>\n",
       "      <td>2.347570e-01</td>\n",
       "      <td>figshareweather\\TaiESM1</td>\n",
       "    </tr>\n",
       "    <tr>\n",
       "      <th>2014-12-30 12:00:00</th>\n",
       "      <td>-30.157068</td>\n",
       "      <td>-29.21466</td>\n",
       "      <td>153.125</td>\n",
       "      <td>154.375</td>\n",
       "      <td>2.097459e+00</td>\n",
       "      <td>figshareweather\\TaiESM1</td>\n",
       "    </tr>\n",
       "    <tr>\n",
       "      <th>2014-12-31 12:00:00</th>\n",
       "      <td>-30.157068</td>\n",
       "      <td>-29.21466</td>\n",
       "      <td>153.125</td>\n",
       "      <td>154.375</td>\n",
       "      <td>5.484206e-01</td>\n",
       "      <td>figshareweather\\TaiESM1</td>\n",
       "    </tr>\n",
       "  </tbody>\n",
       "</table>\n",
       "<p>62467843 rows × 6 columns</p>\n",
       "</div>"
      ],
      "text/plain": [
       "                       lat_min   lat_max  lon_min  lon_max  rain (mm/day)  \\\n",
       "time                                                                        \n",
       "1889-01-01 12:00:00 -36.250000 -35.00000  140.625  142.500   3.293256e-13   \n",
       "1889-01-02 12:00:00 -36.250000 -35.00000  140.625  142.500   0.000000e+00   \n",
       "1889-01-03 12:00:00 -36.250000 -35.00000  140.625  142.500   0.000000e+00   \n",
       "1889-01-04 12:00:00 -36.250000 -35.00000  140.625  142.500   0.000000e+00   \n",
       "1889-01-05 12:00:00 -36.250000 -35.00000  140.625  142.500   1.047658e-02   \n",
       "...                        ...       ...      ...      ...            ...   \n",
       "2014-12-27 12:00:00 -30.157068 -29.21466  153.125  154.375   5.543748e-01   \n",
       "2014-12-28 12:00:00 -30.157068 -29.21466  153.125  154.375   7.028577e+00   \n",
       "2014-12-29 12:00:00 -30.157068 -29.21466  153.125  154.375   2.347570e-01   \n",
       "2014-12-30 12:00:00 -30.157068 -29.21466  153.125  154.375   2.097459e+00   \n",
       "2014-12-31 12:00:00 -30.157068 -29.21466  153.125  154.375   5.484206e-01   \n",
       "\n",
       "                                          model  \n",
       "time                                             \n",
       "1889-01-01 12:00:00  figshareweather\\ACCESS-CM2  \n",
       "1889-01-02 12:00:00  figshareweather\\ACCESS-CM2  \n",
       "1889-01-03 12:00:00  figshareweather\\ACCESS-CM2  \n",
       "1889-01-04 12:00:00  figshareweather\\ACCESS-CM2  \n",
       "1889-01-05 12:00:00  figshareweather\\ACCESS-CM2  \n",
       "...                                         ...  \n",
       "2014-12-27 12:00:00     figshareweather\\TaiESM1  \n",
       "2014-12-28 12:00:00     figshareweather\\TaiESM1  \n",
       "2014-12-29 12:00:00     figshareweather\\TaiESM1  \n",
       "2014-12-30 12:00:00     figshareweather\\TaiESM1  \n",
       "2014-12-31 12:00:00     figshareweather\\TaiESM1  \n",
       "\n",
       "[62467843 rows x 6 columns]"
      ]
     },
     "execution_count": 9,
     "metadata": {},
     "output_type": "execute_result"
    }
   ],
   "source": [
    "# df = pd.read_csv('figshareweather/combined_data.csv')\n",
    "df"
   ]
  },
  {
   "cell_type": "markdown",
   "id": "c2413017-5eb6-4fbb-96a0-dadc8a11494d",
   "metadata": {},
   "source": [
    "| Team Member | Operating System | RAM | Processor | Is SSD | Time taken |\n",
    "|:-----------:|:----------------:|:---:|:---------:|:------:|:----------:|\n",
    "| Cuthbert |  MacOS                |  32GB   | Intel i9           | Yes       |     5:59       |\n",
    "| Abhiket  |Windows 10 Education            | 16GB      |   Intel i7        |  Yes       |  7 min 17sec          |\n",
    "| Paniz    |  MacOS                |  16GB   |   Intel i7         |   Yes     |    6:08       |\n",
    "| Irene    |       MacOS           |   8GB  |     Intel i5      |    Yes    |     10:18       |"
   ]
  },
  {
   "cell_type": "markdown",
   "id": "0bce2b27-8d5b-4c4f-b3f7-54ed19db49c3",
   "metadata": {},
   "source": [
    "## Part 5 - Python EDA"
   ]
  },
  {
   "cell_type": "markdown",
   "id": "f54cc643",
   "metadata": {},
   "source": [
    "### Loading the combined CSV before using any approach "
   ]
  },
  {
   "cell_type": "code",
   "execution_count": 10,
   "id": "690bca98",
   "metadata": {},
   "outputs": [
    {
     "name": "stdout",
     "output_type": "stream",
     "text": [
      "CPU times: total: 1min 18s\n",
      "Wall time: 1min 18s\n"
     ]
    },
    {
     "data": {
      "text/plain": [
       "figshareweather\\MPI-ESM1-2-HR       5154240\n",
       "figshareweather\\TaiESM1             3541230\n",
       "figshareweather\\NorESM2-MM          3541230\n",
       "figshareweather\\CMCC-CM2-HR4        3541230\n",
       "figshareweather\\CMCC-CM2-SR5        3541230\n",
       "figshareweather\\CMCC-ESM2           3541230\n",
       "figshareweather\\SAM0-UNICON         3541153\n",
       "figshareweather\\FGOALS-f3-L         3219300\n",
       "figshareweather\\GFDL-CM4            3219300\n",
       "figshareweather\\GFDL-ESM4           3219300\n",
       "figshareweather\\EC-Earth3-Veg-LR    3037320\n",
       "figshareweather\\MRI-ESM2-0          3037320\n",
       "figshareweather\\BCC-CSM2-MR         3035340\n",
       "figshareweather\\MIROC6              2070900\n",
       "figshareweather\\ACCESS-CM2          1932840\n",
       "figshareweather\\ACCESS-ESM1-5       1610700\n",
       "figshareweather\\INM-CM5-0           1609650\n",
       "figshareweather\\INM-CM4-8           1609650\n",
       "figshareweather\\KIOST-ESM           1287720\n",
       "figshareweather\\FGOALS-g3           1287720\n",
       "figshareweather\\MPI-ESM1-2-LR        966420\n",
       "figshareweather\\NESM3                966420\n",
       "figshareweather\\AWI-ESM-1-1-LR       966420\n",
       "figshareweather\\MPI-ESM-1-2-HAM      966420\n",
       "figshareweather\\NorESM2-LM           919800\n",
       "figshareweather\\BCC-ESM1             551880\n",
       "figshareweather\\CanESM5              551880\n",
       "Name: model, dtype: int64"
      ]
     },
     "execution_count": 10,
     "metadata": {},
     "output_type": "execute_result"
    }
   ],
   "source": [
    "%%time\n",
    "df = pd.read_csv('figshareweather/combined_data.csv')\n",
    "df.model.value_counts()"
   ]
  },
  {
   "cell_type": "markdown",
   "id": "8a549135-ad96-4e7f-bd2b-e1afc234694b",
   "metadata": {},
   "source": [
    "### Preliminary EDA without any pre-processing"
   ]
  },
  {
   "cell_type": "code",
   "execution_count": 11,
   "id": "e939c4ad-f64b-474e-a64b-000a5b79178a",
   "metadata": {
    "scrolled": true
   },
   "outputs": [
    {
     "name": "stdout",
     "output_type": "stream",
     "text": [
      "<class 'pandas.core.frame.DataFrame'>\n",
      "RangeIndex: 62467843 entries, 0 to 62467842\n",
      "Data columns (total 7 columns):\n",
      " #   Column         Dtype  \n",
      "---  ------         -----  \n",
      " 0   time           object \n",
      " 1   lat_min        float64\n",
      " 2   lat_max        float64\n",
      " 3   lon_min        float64\n",
      " 4   lon_max        float64\n",
      " 5   rain (mm/day)  float64\n",
      " 6   model          object \n",
      "dtypes: float64(5), object(2)\n",
      "memory usage: 3.3+ GB\n",
      "CPU times: total: 15.6 ms\n",
      "Wall time: 31.8 ms\n"
     ]
    }
   ],
   "source": [
    "%%time\n",
    "df.info()"
   ]
  },
  {
   "cell_type": "code",
   "execution_count": 12,
   "id": "9556c04e-04a5-4dbc-9d17-bdf164a76e85",
   "metadata": {},
   "outputs": [
    {
     "name": "stdout",
     "output_type": "stream",
     "text": [
      "CPU times: total: 13.5 s\n",
      "Wall time: 13.7 s\n"
     ]
    },
    {
     "data": {
      "text/html": [
       "<div>\n",
       "<style scoped>\n",
       "    .dataframe tbody tr th:only-of-type {\n",
       "        vertical-align: middle;\n",
       "    }\n",
       "\n",
       "    .dataframe tbody tr th {\n",
       "        vertical-align: top;\n",
       "    }\n",
       "\n",
       "    .dataframe thead th {\n",
       "        text-align: right;\n",
       "    }\n",
       "</style>\n",
       "<table border=\"1\" class=\"dataframe\">\n",
       "  <thead>\n",
       "    <tr style=\"text-align: right;\">\n",
       "      <th></th>\n",
       "      <th>lat_min</th>\n",
       "      <th>lat_max</th>\n",
       "      <th>lon_min</th>\n",
       "      <th>lon_max</th>\n",
       "      <th>rain (mm/day)</th>\n",
       "    </tr>\n",
       "  </thead>\n",
       "  <tbody>\n",
       "    <tr>\n",
       "      <th>count</th>\n",
       "      <td>5.924854e+07</td>\n",
       "      <td>6.246784e+07</td>\n",
       "      <td>5.924854e+07</td>\n",
       "      <td>6.246784e+07</td>\n",
       "      <td>5.924854e+07</td>\n",
       "    </tr>\n",
       "    <tr>\n",
       "      <th>mean</th>\n",
       "      <td>-3.310482e+01</td>\n",
       "      <td>-3.197757e+01</td>\n",
       "      <td>1.469059e+02</td>\n",
       "      <td>1.482150e+02</td>\n",
       "      <td>1.901170e+00</td>\n",
       "    </tr>\n",
       "    <tr>\n",
       "      <th>std</th>\n",
       "      <td>1.963549e+00</td>\n",
       "      <td>1.992067e+00</td>\n",
       "      <td>3.793784e+00</td>\n",
       "      <td>3.809994e+00</td>\n",
       "      <td>5.585735e+00</td>\n",
       "    </tr>\n",
       "    <tr>\n",
       "      <th>min</th>\n",
       "      <td>-3.646739e+01</td>\n",
       "      <td>-3.600000e+01</td>\n",
       "      <td>1.406250e+02</td>\n",
       "      <td>1.412500e+02</td>\n",
       "      <td>-3.807373e-12</td>\n",
       "    </tr>\n",
       "    <tr>\n",
       "      <th>25%</th>\n",
       "      <td>-3.486911e+01</td>\n",
       "      <td>-3.366221e+01</td>\n",
       "      <td>1.434375e+02</td>\n",
       "      <td>1.450000e+02</td>\n",
       "      <td>3.838413e-06</td>\n",
       "    </tr>\n",
       "    <tr>\n",
       "      <th>50%</th>\n",
       "      <td>-3.300000e+01</td>\n",
       "      <td>-3.204188e+01</td>\n",
       "      <td>1.468750e+02</td>\n",
       "      <td>1.481250e+02</td>\n",
       "      <td>6.154947e-02</td>\n",
       "    </tr>\n",
       "    <tr>\n",
       "      <th>75%</th>\n",
       "      <td>-3.140170e+01</td>\n",
       "      <td>-3.015707e+01</td>\n",
       "      <td>1.501875e+02</td>\n",
       "      <td>1.513125e+02</td>\n",
       "      <td>1.020918e+00</td>\n",
       "    </tr>\n",
       "    <tr>\n",
       "      <th>max</th>\n",
       "      <td>-2.990000e+01</td>\n",
       "      <td>-2.790606e+01</td>\n",
       "      <td>1.537500e+02</td>\n",
       "      <td>1.556250e+02</td>\n",
       "      <td>4.329395e+02</td>\n",
       "    </tr>\n",
       "  </tbody>\n",
       "</table>\n",
       "</div>"
      ],
      "text/plain": [
       "            lat_min       lat_max       lon_min       lon_max  rain (mm/day)\n",
       "count  5.924854e+07  6.246784e+07  5.924854e+07  6.246784e+07   5.924854e+07\n",
       "mean  -3.310482e+01 -3.197757e+01  1.469059e+02  1.482150e+02   1.901170e+00\n",
       "std    1.963549e+00  1.992067e+00  3.793784e+00  3.809994e+00   5.585735e+00\n",
       "min   -3.646739e+01 -3.600000e+01  1.406250e+02  1.412500e+02  -3.807373e-12\n",
       "25%   -3.486911e+01 -3.366221e+01  1.434375e+02  1.450000e+02   3.838413e-06\n",
       "50%   -3.300000e+01 -3.204188e+01  1.468750e+02  1.481250e+02   6.154947e-02\n",
       "75%   -3.140170e+01 -3.015707e+01  1.501875e+02  1.513125e+02   1.020918e+00\n",
       "max   -2.990000e+01 -2.790606e+01  1.537500e+02  1.556250e+02   4.329395e+02"
      ]
     },
     "execution_count": 12,
     "metadata": {},
     "output_type": "execute_result"
    }
   ],
   "source": [
    "%%time\n",
    "df.describe()"
   ]
  },
  {
   "cell_type": "code",
   "execution_count": 13,
   "id": "04c114ef-6b69-470c-92a3-60a29d324c52",
   "metadata": {},
   "outputs": [
    {
     "data": {
      "text/plain": [
       "time              object\n",
       "lat_min          float64\n",
       "lat_max          float64\n",
       "lon_min          float64\n",
       "lon_max          float64\n",
       "rain (mm/day)    float64\n",
       "model             object\n",
       "dtype: object"
      ]
     },
     "execution_count": 13,
     "metadata": {},
     "output_type": "execute_result"
    }
   ],
   "source": [
    "df2 = df.copy()\n",
    "df2.dtypes"
   ]
  },
  {
   "cell_type": "markdown",
   "id": "9546c62c-7f73-4982-9257-3bda6b828a74",
   "metadata": {},
   "source": [
    "### Changing dtype of your data"
   ]
  },
  {
   "cell_type": "code",
   "execution_count": 14,
   "id": "cab902ef-84e4-40e0-8b75-0e79093a0c34",
   "metadata": {},
   "outputs": [
    {
     "name": "stdout",
     "output_type": "stream",
     "text": [
      "CPU times: total: 1min 25s\n",
      "Wall time: 1min 28s\n"
     ]
    },
    {
     "data": {
      "text/plain": [
       "figshareweather\\MPI-ESM1-2-HR       5154240\n",
       "figshareweather\\TaiESM1             3541230\n",
       "figshareweather\\NorESM2-MM          3541230\n",
       "figshareweather\\CMCC-CM2-HR4        3541230\n",
       "figshareweather\\CMCC-CM2-SR5        3541230\n",
       "figshareweather\\CMCC-ESM2           3541230\n",
       "figshareweather\\SAM0-UNICON         3541153\n",
       "figshareweather\\FGOALS-f3-L         3219300\n",
       "figshareweather\\GFDL-CM4            3219300\n",
       "figshareweather\\GFDL-ESM4           3219300\n",
       "figshareweather\\EC-Earth3-Veg-LR    3037320\n",
       "figshareweather\\MRI-ESM2-0          3037320\n",
       "figshareweather\\BCC-CSM2-MR         3035340\n",
       "figshareweather\\MIROC6              2070900\n",
       "figshareweather\\ACCESS-CM2          1932840\n",
       "figshareweather\\ACCESS-ESM1-5       1610700\n",
       "figshareweather\\INM-CM5-0           1609650\n",
       "figshareweather\\INM-CM4-8           1609650\n",
       "figshareweather\\KIOST-ESM           1287720\n",
       "figshareweather\\FGOALS-g3           1287720\n",
       "figshareweather\\MPI-ESM1-2-LR        966420\n",
       "figshareweather\\NESM3                966420\n",
       "figshareweather\\AWI-ESM-1-1-LR       966420\n",
       "figshareweather\\MPI-ESM-1-2-HAM      966420\n",
       "figshareweather\\NorESM2-LM           919800\n",
       "figshareweather\\BCC-ESM1             551880\n",
       "figshareweather\\CanESM5              551880\n",
       "Name: model, dtype: int64"
      ]
     },
     "execution_count": 14,
     "metadata": {},
     "output_type": "execute_result"
    }
   ],
   "source": [
    "%%time\n",
    "types = {'lat_min':np.float32,'lat_max':np.float32,\n",
    "         'lon_min':np.float32, 'lon_max':np.float32, 'rain (mm/day)':np.float32}\n",
    "data = pd.read_csv(\"figshareweather/combined_data.csv\",dtype=types)\n",
    "data.model.value_counts()"
   ]
  },
  {
   "cell_type": "code",
   "execution_count": 15,
   "id": "164ebc78-a3ce-4a57-a2c3-e97965c535b0",
   "metadata": {},
   "outputs": [
    {
     "name": "stdout",
     "output_type": "stream",
     "text": [
      "<class 'pandas.core.frame.DataFrame'>\n",
      "RangeIndex: 62467843 entries, 0 to 62467842\n",
      "Data columns (total 7 columns):\n",
      " #   Column         Dtype  \n",
      "---  ------         -----  \n",
      " 0   time           object \n",
      " 1   lat_min        float64\n",
      " 2   lat_max        float64\n",
      " 3   lon_min        float64\n",
      " 4   lon_max        float64\n",
      " 5   rain (mm/day)  float64\n",
      " 6   model          object \n",
      "dtypes: float64(5), object(2)\n",
      "memory usage: 3.3+ GB\n",
      "CPU times: total: 0 ns\n",
      "Wall time: 29.3 ms\n"
     ]
    }
   ],
   "source": [
    "%%time\n",
    "df2.info()"
   ]
  },
  {
   "cell_type": "code",
   "execution_count": 16,
   "id": "92febba4-b074-4059-9518-b422b83270dd",
   "metadata": {},
   "outputs": [
    {
     "name": "stdout",
     "output_type": "stream",
     "text": [
      "CPU times: total: 15.2 s\n",
      "Wall time: 15.4 s\n"
     ]
    },
    {
     "data": {
      "text/html": [
       "<div>\n",
       "<style scoped>\n",
       "    .dataframe tbody tr th:only-of-type {\n",
       "        vertical-align: middle;\n",
       "    }\n",
       "\n",
       "    .dataframe tbody tr th {\n",
       "        vertical-align: top;\n",
       "    }\n",
       "\n",
       "    .dataframe thead th {\n",
       "        text-align: right;\n",
       "    }\n",
       "</style>\n",
       "<table border=\"1\" class=\"dataframe\">\n",
       "  <thead>\n",
       "    <tr style=\"text-align: right;\">\n",
       "      <th></th>\n",
       "      <th>lat_min</th>\n",
       "      <th>lat_max</th>\n",
       "      <th>lon_min</th>\n",
       "      <th>lon_max</th>\n",
       "      <th>rain (mm/day)</th>\n",
       "    </tr>\n",
       "  </thead>\n",
       "  <tbody>\n",
       "    <tr>\n",
       "      <th>count</th>\n",
       "      <td>5.924854e+07</td>\n",
       "      <td>6.246784e+07</td>\n",
       "      <td>5.924854e+07</td>\n",
       "      <td>6.246784e+07</td>\n",
       "      <td>5.924854e+07</td>\n",
       "    </tr>\n",
       "    <tr>\n",
       "      <th>mean</th>\n",
       "      <td>-3.310482e+01</td>\n",
       "      <td>-3.197757e+01</td>\n",
       "      <td>1.469059e+02</td>\n",
       "      <td>1.482150e+02</td>\n",
       "      <td>1.901170e+00</td>\n",
       "    </tr>\n",
       "    <tr>\n",
       "      <th>std</th>\n",
       "      <td>1.963549e+00</td>\n",
       "      <td>1.992067e+00</td>\n",
       "      <td>3.793784e+00</td>\n",
       "      <td>3.809994e+00</td>\n",
       "      <td>5.585735e+00</td>\n",
       "    </tr>\n",
       "    <tr>\n",
       "      <th>min</th>\n",
       "      <td>-3.646739e+01</td>\n",
       "      <td>-3.600000e+01</td>\n",
       "      <td>1.406250e+02</td>\n",
       "      <td>1.412500e+02</td>\n",
       "      <td>-3.807373e-12</td>\n",
       "    </tr>\n",
       "    <tr>\n",
       "      <th>25%</th>\n",
       "      <td>-3.486911e+01</td>\n",
       "      <td>-3.366221e+01</td>\n",
       "      <td>1.434375e+02</td>\n",
       "      <td>1.450000e+02</td>\n",
       "      <td>3.838413e-06</td>\n",
       "    </tr>\n",
       "    <tr>\n",
       "      <th>50%</th>\n",
       "      <td>-3.300000e+01</td>\n",
       "      <td>-3.204188e+01</td>\n",
       "      <td>1.468750e+02</td>\n",
       "      <td>1.481250e+02</td>\n",
       "      <td>6.154947e-02</td>\n",
       "    </tr>\n",
       "    <tr>\n",
       "      <th>75%</th>\n",
       "      <td>-3.140170e+01</td>\n",
       "      <td>-3.015707e+01</td>\n",
       "      <td>1.501875e+02</td>\n",
       "      <td>1.513125e+02</td>\n",
       "      <td>1.020918e+00</td>\n",
       "    </tr>\n",
       "    <tr>\n",
       "      <th>max</th>\n",
       "      <td>-2.990000e+01</td>\n",
       "      <td>-2.790606e+01</td>\n",
       "      <td>1.537500e+02</td>\n",
       "      <td>1.556250e+02</td>\n",
       "      <td>4.329395e+02</td>\n",
       "    </tr>\n",
       "  </tbody>\n",
       "</table>\n",
       "</div>"
      ],
      "text/plain": [
       "            lat_min       lat_max       lon_min       lon_max  rain (mm/day)\n",
       "count  5.924854e+07  6.246784e+07  5.924854e+07  6.246784e+07   5.924854e+07\n",
       "mean  -3.310482e+01 -3.197757e+01  1.469059e+02  1.482150e+02   1.901170e+00\n",
       "std    1.963549e+00  1.992067e+00  3.793784e+00  3.809994e+00   5.585735e+00\n",
       "min   -3.646739e+01 -3.600000e+01  1.406250e+02  1.412500e+02  -3.807373e-12\n",
       "25%   -3.486911e+01 -3.366221e+01  1.434375e+02  1.450000e+02   3.838413e-06\n",
       "50%   -3.300000e+01 -3.204188e+01  1.468750e+02  1.481250e+02   6.154947e-02\n",
       "75%   -3.140170e+01 -3.015707e+01  1.501875e+02  1.513125e+02   1.020918e+00\n",
       "max   -2.990000e+01 -2.790606e+01  1.537500e+02  1.556250e+02   4.329395e+02"
      ]
     },
     "execution_count": 16,
     "metadata": {},
     "output_type": "execute_result"
    }
   ],
   "source": [
    "%%time\n",
    "df2.describe()"
   ]
  },
  {
   "cell_type": "markdown",
   "id": "1938e8d0-68d6-49fa-b4cc-206f95d265c1",
   "metadata": {},
   "source": [
    "### Loading in Chunks"
   ]
  },
  {
   "cell_type": "code",
   "execution_count": 17,
   "id": "05a0e48a-953c-4a04-ab59-110d6137d695",
   "metadata": {},
   "outputs": [
    {
     "name": "stdout",
     "output_type": "stream",
     "text": [
      "figshareweather\\ACCESS-CM2          1932840\n",
      "figshareweather\\ACCESS-ESM1-5       1610700\n",
      "figshareweather\\AWI-ESM-1-1-LR       966420\n",
      "figshareweather\\BCC-CSM2-MR         3035340\n",
      "figshareweather\\BCC-ESM1             551880\n",
      "figshareweather\\CMCC-CM2-HR4        3541230\n",
      "figshareweather\\CMCC-CM2-SR5        3541230\n",
      "figshareweather\\CMCC-ESM2           3541230\n",
      "figshareweather\\CanESM5              551880\n",
      "figshareweather\\EC-Earth3-Veg-LR    3037320\n",
      "figshareweather\\FGOALS-f3-L         3219300\n",
      "figshareweather\\FGOALS-g3           1287720\n",
      "figshareweather\\GFDL-CM4            3219300\n",
      "figshareweather\\GFDL-ESM4           3219300\n",
      "figshareweather\\INM-CM4-8           1609650\n",
      "figshareweather\\INM-CM5-0           1609650\n",
      "figshareweather\\KIOST-ESM           1287720\n",
      "figshareweather\\MIROC6              2070900\n",
      "figshareweather\\MPI-ESM-1-2-HAM      966420\n",
      "figshareweather\\MPI-ESM1-2-HR       5154240\n",
      "figshareweather\\MPI-ESM1-2-LR        966420\n",
      "figshareweather\\MRI-ESM2-0          3037320\n",
      "figshareweather\\NESM3                966420\n",
      "figshareweather\\NorESM2-LM           919800\n",
      "figshareweather\\NorESM2-MM          3541230\n",
      "figshareweather\\SAM0-UNICON         3541153\n",
      "figshareweather\\TaiESM1             3541230\n",
      "dtype: int32\n",
      "CPU times: total: 1min 26s\n",
      "Wall time: 6min\n"
     ]
    }
   ],
   "source": [
    "%%time\n",
    "counts = pd.Series(dtype=int)\n",
    "for chunk in pd.read_csv(\"figshareweather/combined_data.csv\", chunksize=10_000_000):\n",
    "    counts = counts.add(chunk[\"model\"].value_counts(), fill_value=0)\n",
    "print(counts.astype(int))"
   ]
  },
  {
   "cell_type": "markdown",
   "id": "c2f1c1ed-d49a-463c-8ca6-a2d626cf9ded",
   "metadata": {},
   "source": [
    "### Difference in memory"
   ]
  },
  {
   "cell_type": "code",
   "execution_count": 18,
   "id": "46891825-421d-40c2-984c-ad6ff6da42e9",
   "metadata": {},
   "outputs": [
    {
     "name": "stdout",
     "output_type": "stream",
     "text": [
      "Memory usage with float64: 2.50 GB\n",
      "Memory usage with float32: 2.50 GB\n"
     ]
    }
   ],
   "source": [
    "print(f\"Memory usage with float64: {df[['lat_min', 'lat_max', 'lon_min', 'lon_max', 'rain (mm/day)']].memory_usage().sum() / 1e9:.2f} GB\")\n",
    "print(f\"Memory usage with float32: {df2[['lat_min', 'lat_max', 'lon_min', 'lon_max', 'rain (mm/day)']].memory_usage().sum() / 1e9:.2f} GB\")"
   ]
  },
  {
   "cell_type": "markdown",
   "id": "42a3cdae-571b-42ef-9e2e-5be3e956c954",
   "metadata": {},
   "source": [
    "### Preliminary EDA, changing the dtypes and Loading in Chunks\n",
    "- Change dtype of model to categorical, numerical to float32, and time to datetime\n",
    "    - In practice, we probably cannot change precision of latitudes and longitudes because we would lose precision in our geographical points. \n",
    "    - Might be okay to reduce the significant figures for the rainfall numbers since they are measured in mm already. \n",
    "    - Making these changes reduces the dataframe memory usage from 3 GB to 1.75 GB. (this alone does not significantly change EDA time).\n",
    "- It appears we want all the columns as they contain pertinent information to our investigation, and thus we cannot omit any of the columns when reading them in.\n",
    "- Loading the data in chunks for the purpose of our EDA has actually drastically increased the time taken to perform the value_counts by an order of magnitude."
   ]
  },
  {
   "cell_type": "markdown",
   "id": "acb59e26-61e1-4b51-bddb-737a43ce860c",
   "metadata": {},
   "source": [
    "<br>"
   ]
  },
  {
   "cell_type": "markdown",
   "id": "68971520-392f-4088-8f88-8d9a180db3af",
   "metadata": {},
   "source": [
    "| Team Member | Operating System | RAM | Processor | Is SSD | Time taken (before) | Time taken (dtype)|Time taken(chunks)|\n",
    "|:-----------:|:----------------:|:---:|:---------:|:------:|:----------:|:----------:|:----------:|\n",
    "| Cuthbert |  MacOS                |  32GB   | Intel i9           | Yes       | 3.32s         |294ms|55s|\n",
    "| Abhiket    | Windows 10 Education |   16GB  | Intel i7          |   Yes     |  1min 18s          |1min 25sec|1min 26sec|\n",
    "| Paniz    |   MacOS               | 16GB    | Intel i7          |    Yes    |   2 s         |467 ms| 58.3s|\n",
    "| Irene    |      MacOS            |  8GB   |     Intel i5      |      Yes  |     1 min 37sec       | 1 min 21sec |1min 23sec|"
   ]
  },
  {
   "cell_type": "markdown",
   "id": "3d862ec9-420f-4889-91d3-8bcfdd4dacf7",
   "metadata": {},
   "source": [
    "## Part 6 - File Transfer, R EDA"
   ]
  },
  {
   "cell_type": "code",
   "execution_count": 19,
   "id": "11567758-bbb5-41c9-989d-f562d00e6138",
   "metadata": {},
   "outputs": [
    {
     "name": "stderr",
     "output_type": "stream",
     "text": [
      "C:\\Users\\p12ab\\miniconda3\\envs\\525_2022\\lib\\site-packages\\rpy2\\robjects\\packages.py:366: UserWarning: The symbol 'quartz' is not in this R namespace/package.\n",
      "  warnings.warn(\n"
     ]
    }
   ],
   "source": [
    "%load_ext rpy2.ipython"
   ]
  },
  {
   "cell_type": "markdown",
   "id": "ab3e5c36-f6b0-4829-8eda-a1fd8b9665ff",
   "metadata": {},
   "source": [
    "### Parquet File"
   ]
  },
  {
   "cell_type": "code",
   "execution_count": 20,
   "id": "c3b320e4-9559-46b4-af8a-a43bf6985707",
   "metadata": {},
   "outputs": [
    {
     "name": "stdout",
     "output_type": "stream",
     "text": [
      "CPU times: total: 28 s\n",
      "Wall time: 31.7 s\n"
     ]
    }
   ],
   "source": [
    "%%time\n",
    "df.to_parquet(\"figshareweather/combined_data.parquet\")"
   ]
  },
  {
   "cell_type": "code",
   "execution_count": 21,
   "id": "43510615-3032-43bd-8049-882411783e64",
   "metadata": {},
   "outputs": [
    {
     "name": "stdout",
     "output_type": "stream",
     "text": [
      "\u001b[38;5;246m# A tibble: 27 x 2\u001b[39m\n",
      "   model                                     n\n",
      "   \u001b[3m\u001b[38;5;246m<chr>\u001b[39m\u001b[23m                                 \u001b[3m\u001b[38;5;246m<int>\u001b[39m\u001b[23m\n",
      "\u001b[38;5;250m 1\u001b[39m \u001b[38;5;246m\"\u001b[39mfigshareweather\\\\ACCESS-CM2\u001b[38;5;246m\"\u001b[39m       1\u001b[4m9\u001b[24m\u001b[4m3\u001b[24m\u001b[4m2\u001b[24m840\n",
      "\u001b[38;5;250m 2\u001b[39m \u001b[38;5;246m\"\u001b[39mfigshareweather\\\\ACCESS-ESM1-5\u001b[38;5;246m\"\u001b[39m    1\u001b[4m6\u001b[24m\u001b[4m1\u001b[24m\u001b[4m0\u001b[24m700\n",
      "\u001b[38;5;250m 3\u001b[39m \u001b[38;5;246m\"\u001b[39mfigshareweather\\\\AWI-ESM-1-1-LR\u001b[38;5;246m\"\u001b[39m    \u001b[4m9\u001b[24m\u001b[4m6\u001b[24m\u001b[4m6\u001b[24m420\n",
      "\u001b[38;5;250m 4\u001b[39m \u001b[38;5;246m\"\u001b[39mfigshareweather\\\\BCC-CSM2-MR\u001b[38;5;246m\"\u001b[39m      3\u001b[4m0\u001b[24m\u001b[4m3\u001b[24m\u001b[4m5\u001b[24m340\n",
      "\u001b[38;5;250m 5\u001b[39m \u001b[38;5;246m\"\u001b[39mfigshareweather\\\\BCC-ESM1\u001b[38;5;246m\"\u001b[39m          \u001b[4m5\u001b[24m\u001b[4m5\u001b[24m\u001b[4m1\u001b[24m880\n",
      "\u001b[38;5;250m 6\u001b[39m \u001b[38;5;246m\"\u001b[39mfigshareweather\\\\CanESM5\u001b[38;5;246m\"\u001b[39m           \u001b[4m5\u001b[24m\u001b[4m5\u001b[24m\u001b[4m1\u001b[24m880\n",
      "\u001b[38;5;250m 7\u001b[39m \u001b[38;5;246m\"\u001b[39mfigshareweather\\\\CMCC-CM2-HR4\u001b[38;5;246m\"\u001b[39m     3\u001b[4m5\u001b[24m\u001b[4m4\u001b[24m\u001b[4m1\u001b[24m230\n",
      "\u001b[38;5;250m 8\u001b[39m \u001b[38;5;246m\"\u001b[39mfigshareweather\\\\CMCC-CM2-SR5\u001b[38;5;246m\"\u001b[39m     3\u001b[4m5\u001b[24m\u001b[4m4\u001b[24m\u001b[4m1\u001b[24m230\n",
      "\u001b[38;5;250m 9\u001b[39m \u001b[38;5;246m\"\u001b[39mfigshareweather\\\\CMCC-ESM2\u001b[38;5;246m\"\u001b[39m        3\u001b[4m5\u001b[24m\u001b[4m4\u001b[24m\u001b[4m1\u001b[24m230\n",
      "\u001b[38;5;250m10\u001b[39m \u001b[38;5;246m\"\u001b[39mfigshareweather\\\\EC-Earth3-Veg-LR\u001b[38;5;246m\"\u001b[39m 3\u001b[4m0\u001b[24m\u001b[4m3\u001b[24m\u001b[4m7\u001b[24m320\n",
      "\u001b[38;5;246m# ... with 17 more rows\u001b[39m\n",
      "Time difference of 1.056836 secs\n"
     ]
    }
   ],
   "source": [
    "%%R \n",
    "start_time <- Sys.time()\n",
    "suppressMessages(library(dplyr))\n",
    "suppressMessages(library(arrow))\n",
    "df_parquet <- open_dataset(\"figshareweather/combined_data.parquet\")\n",
    "result <- df_parquet %>% count(model)\n",
    "end_time <- Sys.time()\n",
    "print(result %>% collect())\n",
    "print(end_time - start_time)"
   ]
  },
  {
   "cell_type": "markdown",
   "id": "1756fad2-b9f9-4dea-ac47-a8ee7ece3a50",
   "metadata": {},
   "source": [
    "### Feather File"
   ]
  },
  {
   "cell_type": "code",
   "execution_count": 22,
   "id": "8f880ef8-e267-4165-b1a6-06c60512ab66",
   "metadata": {},
   "outputs": [
    {
     "name": "stdout",
     "output_type": "stream",
     "text": [
      "CPU times: total: 21.3 s\n",
      "Wall time: 17.1 s\n"
     ]
    }
   ],
   "source": [
    "%%time\n",
    "df.reset_index().to_feather(\"figshareweather/combined_data.feather\")"
   ]
  },
  {
   "cell_type": "code",
   "execution_count": 23,
   "id": "06fe9b26-1376-48eb-9404-47d50bb216d4",
   "metadata": {},
   "outputs": [
    {
     "name": "stdout",
     "output_type": "stream",
     "text": [
      "\u001b[38;5;246m# A tibble: 27 x 2\u001b[39m\n",
      "   model                                     n\n",
      "   \u001b[3m\u001b[38;5;246m<chr>\u001b[39m\u001b[23m                                 \u001b[3m\u001b[38;5;246m<int>\u001b[39m\u001b[23m\n",
      "\u001b[38;5;250m 1\u001b[39m \u001b[38;5;246m\"\u001b[39mfigshareweather\\\\ACCESS-CM2\u001b[38;5;246m\"\u001b[39m       1\u001b[4m9\u001b[24m\u001b[4m3\u001b[24m\u001b[4m2\u001b[24m840\n",
      "\u001b[38;5;250m 2\u001b[39m \u001b[38;5;246m\"\u001b[39mfigshareweather\\\\ACCESS-ESM1-5\u001b[38;5;246m\"\u001b[39m    1\u001b[4m6\u001b[24m\u001b[4m1\u001b[24m\u001b[4m0\u001b[24m700\n",
      "\u001b[38;5;250m 3\u001b[39m \u001b[38;5;246m\"\u001b[39mfigshareweather\\\\AWI-ESM-1-1-LR\u001b[38;5;246m\"\u001b[39m    \u001b[4m9\u001b[24m\u001b[4m6\u001b[24m\u001b[4m6\u001b[24m420\n",
      "\u001b[38;5;250m 4\u001b[39m \u001b[38;5;246m\"\u001b[39mfigshareweather\\\\BCC-CSM2-MR\u001b[38;5;246m\"\u001b[39m      3\u001b[4m0\u001b[24m\u001b[4m3\u001b[24m\u001b[4m5\u001b[24m340\n",
      "\u001b[38;5;250m 5\u001b[39m \u001b[38;5;246m\"\u001b[39mfigshareweather\\\\BCC-ESM1\u001b[38;5;246m\"\u001b[39m          \u001b[4m5\u001b[24m\u001b[4m5\u001b[24m\u001b[4m1\u001b[24m880\n",
      "\u001b[38;5;250m 6\u001b[39m \u001b[38;5;246m\"\u001b[39mfigshareweather\\\\CanESM5\u001b[38;5;246m\"\u001b[39m           \u001b[4m5\u001b[24m\u001b[4m5\u001b[24m\u001b[4m1\u001b[24m880\n",
      "\u001b[38;5;250m 7\u001b[39m \u001b[38;5;246m\"\u001b[39mfigshareweather\\\\CMCC-CM2-HR4\u001b[38;5;246m\"\u001b[39m     3\u001b[4m5\u001b[24m\u001b[4m4\u001b[24m\u001b[4m1\u001b[24m230\n",
      "\u001b[38;5;250m 8\u001b[39m \u001b[38;5;246m\"\u001b[39mfigshareweather\\\\CMCC-CM2-SR5\u001b[38;5;246m\"\u001b[39m     3\u001b[4m5\u001b[24m\u001b[4m4\u001b[24m\u001b[4m1\u001b[24m230\n",
      "\u001b[38;5;250m 9\u001b[39m \u001b[38;5;246m\"\u001b[39mfigshareweather\\\\CMCC-ESM2\u001b[38;5;246m\"\u001b[39m        3\u001b[4m5\u001b[24m\u001b[4m4\u001b[24m\u001b[4m1\u001b[24m230\n",
      "\u001b[38;5;250m10\u001b[39m \u001b[38;5;246m\"\u001b[39mfigshareweather\\\\EC-Earth3-Veg-LR\u001b[38;5;246m\"\u001b[39m 3\u001b[4m0\u001b[24m\u001b[4m3\u001b[24m\u001b[4m7\u001b[24m320\n",
      "\u001b[38;5;246m# ... with 17 more rows\u001b[39m\n",
      "Time difference of 7.692754 secs\n"
     ]
    }
   ],
   "source": [
    "%%R \n",
    "start_time <- Sys.time()\n",
    "suppressMessages(library(dplyr))\n",
    "df_feather <- read_feather(\"figshareweather/combined_data.feather\")\n",
    "result <- df_feather %>% count(model)\n",
    "end_time <- Sys.time()\n",
    "print(result %>% collect())\n",
    "print(end_time - start_time)"
   ]
  },
  {
   "cell_type": "markdown",
   "id": "89341df4-f0c1-4f21-b296-bbede21331a0",
   "metadata": {},
   "source": [
    "### Arrow Exchange"
   ]
  },
  {
   "cell_type": "code",
   "execution_count": 24,
   "id": "e3daac85-c635-4e7f-8480-e7fb93fb5181",
   "metadata": {},
   "outputs": [
    {
     "name": "stdout",
     "output_type": "stream",
     "text": [
      "CPU times: total: 1min 21s\n",
      "Wall time: 1min 18s\n"
     ]
    }
   ],
   "source": [
    "%%time\n",
    "df_arrow = ds.dataset(\"figshareweather/combined_data.csv\", format=\"csv\")\n",
    "table = df_arrow.to_table()\n",
    "r_table = pyra.converter.py2rpy(table)"
   ]
  },
  {
   "cell_type": "code",
   "execution_count": 25,
   "id": "90a60676-5fd2-49d9-8838-2094be265fc2",
   "metadata": {},
   "outputs": [
    {
     "name": "stdout",
     "output_type": "stream",
     "text": [
      "\u001b[38;5;246m# A tibble: 27 x 2\u001b[39m\n",
      "   model                                     n\n",
      "   \u001b[3m\u001b[38;5;246m<chr>\u001b[39m\u001b[23m                                 \u001b[3m\u001b[38;5;246m<int>\u001b[39m\u001b[23m\n",
      "\u001b[38;5;250m 1\u001b[39m \u001b[38;5;246m\"\u001b[39mfigshareweather\\\\ACCESS-CM2\u001b[38;5;246m\"\u001b[39m       1\u001b[4m9\u001b[24m\u001b[4m3\u001b[24m\u001b[4m2\u001b[24m840\n",
      "\u001b[38;5;250m 2\u001b[39m \u001b[38;5;246m\"\u001b[39mfigshareweather\\\\ACCESS-ESM1-5\u001b[38;5;246m\"\u001b[39m    1\u001b[4m6\u001b[24m\u001b[4m1\u001b[24m\u001b[4m0\u001b[24m700\n",
      "\u001b[38;5;250m 3\u001b[39m \u001b[38;5;246m\"\u001b[39mfigshareweather\\\\AWI-ESM-1-1-LR\u001b[38;5;246m\"\u001b[39m    \u001b[4m9\u001b[24m\u001b[4m6\u001b[24m\u001b[4m6\u001b[24m420\n",
      "\u001b[38;5;250m 4\u001b[39m \u001b[38;5;246m\"\u001b[39mfigshareweather\\\\BCC-CSM2-MR\u001b[38;5;246m\"\u001b[39m      3\u001b[4m0\u001b[24m\u001b[4m3\u001b[24m\u001b[4m5\u001b[24m340\n",
      "\u001b[38;5;250m 5\u001b[39m \u001b[38;5;246m\"\u001b[39mfigshareweather\\\\BCC-ESM1\u001b[38;5;246m\"\u001b[39m          \u001b[4m5\u001b[24m\u001b[4m5\u001b[24m\u001b[4m1\u001b[24m880\n",
      "\u001b[38;5;250m 6\u001b[39m \u001b[38;5;246m\"\u001b[39mfigshareweather\\\\CanESM5\u001b[38;5;246m\"\u001b[39m           \u001b[4m5\u001b[24m\u001b[4m5\u001b[24m\u001b[4m1\u001b[24m880\n",
      "\u001b[38;5;250m 7\u001b[39m \u001b[38;5;246m\"\u001b[39mfigshareweather\\\\CMCC-CM2-HR4\u001b[38;5;246m\"\u001b[39m     3\u001b[4m5\u001b[24m\u001b[4m4\u001b[24m\u001b[4m1\u001b[24m230\n",
      "\u001b[38;5;250m 8\u001b[39m \u001b[38;5;246m\"\u001b[39mfigshareweather\\\\CMCC-CM2-SR5\u001b[38;5;246m\"\u001b[39m     3\u001b[4m5\u001b[24m\u001b[4m4\u001b[24m\u001b[4m1\u001b[24m230\n",
      "\u001b[38;5;250m 9\u001b[39m \u001b[38;5;246m\"\u001b[39mfigshareweather\\\\CMCC-ESM2\u001b[38;5;246m\"\u001b[39m        3\u001b[4m5\u001b[24m\u001b[4m4\u001b[24m\u001b[4m1\u001b[24m230\n",
      "\u001b[38;5;250m10\u001b[39m \u001b[38;5;246m\"\u001b[39mfigshareweather\\\\EC-Earth3-Veg-LR\u001b[38;5;246m\"\u001b[39m 3\u001b[4m0\u001b[24m\u001b[4m3\u001b[24m\u001b[4m7\u001b[24m320\n",
      "\u001b[38;5;246m# ... with 17 more rows\u001b[39m\n",
      "Time difference of 0.0303371 secs\n"
     ]
    }
   ],
   "source": [
    "%%R -i r_table\n",
    "start_time <- Sys.time()\n",
    "suppressMessages(library(dplyr))\n",
    "result <- r_table %>% count(model)\n",
    "end_time <- Sys.time()\n",
    "print(result %>% collect())\n",
    "print(end_time - start_time)"
   ]
  },
  {
   "cell_type": "markdown",
   "id": "961c7743-a0e6-4a59-bd48-7b637c735518",
   "metadata": {},
   "source": [
    "### Discussion about file types"
   ]
  },
  {
   "cell_type": "markdown",
   "id": "0ff13a5f-86e1-4ef1-8200-f9870ce954af",
   "metadata": {},
   "source": [
    "- The parquet file was fast to create and exchange. \n",
    "- The feather file was fast to create, but the exchange was a bit long. \n",
    "- The arrow csv was slow to create but very fast to exchange.\n",
    "- We did not use pandas exchange because the process is very slow. \n",
    "\n",
    "Among all the three approaches we tried, we picked parquet file because overall it was the fastest in terms of creating and exchanging the file."
   ]
  }
 ],
 "metadata": {
  "kernelspec": {
   "display_name": "Python [conda env:525_2022]",
   "language": "python",
   "name": "conda-env-525_2022-py"
  },
  "language_info": {
   "codemirror_mode": {
    "name": "ipython",
    "version": 3
   },
   "file_extension": ".py",
   "mimetype": "text/x-python",
   "name": "python",
   "nbconvert_exporter": "python",
   "pygments_lexer": "ipython3",
   "version": "3.8.6"
  }
 },
 "nbformat": 4,
 "nbformat_minor": 5
}
